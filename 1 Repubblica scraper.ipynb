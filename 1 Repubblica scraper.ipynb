{
 "cells": [
  {
   "cell_type": "code",
   "execution_count": null,
   "id": "7ea7f02a",
   "metadata": {},
   "outputs": [],
   "source": [
    "import requests\n",
    "import pandas as pd\n",
    "from bs4 import BeautifulSoup\n",
    "import time\n",
    "from datetime import date\n",
    "import urllib"
   ]
  },
  {
   "cell_type": "code",
   "execution_count": null,
   "id": "8b4f9b95",
   "metadata": {},
   "outputs": [],
   "source": [
    "data = [] # create an empty list to temporarily store data\n",
    "\n",
    "\n",
    "#Define starting params\n",
    "page = 1\n",
    "query = 'berlusconi'\n",
    "fromdate = '1984-01-02'\n",
    "\n",
    "base_url = 'https://ricerca.repubblica.it/ricerca/repubblica?'\n",
    "\n",
    "\n",
    "while True:\n",
    "    \n",
    "    params = {\n",
    "    'query' : query,\n",
    "    'fromdate' : fromdate,\n",
    "    'todate' : today,\n",
    "    'page' : page,\n",
    "    'sortby' : 'adate'\n",
    "    }\n",
    "\n",
    "    url = base_url + urllib.parse.urlencode(params)\n",
    "    \n",
    "    response = requests.get(url)\n",
    "    \n",
    "    if response.status_code == 200:\n",
    "        print(f\"Searching {page} for {fromdate}\")\n",
    "        soup = BeautifulSoup(response.content, 'html.parser')\n",
    "        articles = soup.find_all('article')\n",
    "        for article in articles:\n",
    "            title = article.find('a').text.strip()\n",
    "            date = article.find('time')['datetime']\n",
    "            url_article = article.find('a')['href']\n",
    "            \n",
    "            # Only save headlines with the word 'Berlusconi' or \"Silvio\".\n",
    "            if 'berlusconi' in title.lower() or 'silvio' in title.lower():\n",
    "                data.append({'Title': title, 'Date': date, 'URL': url_article})\n",
    "                time.sleep(1)\n",
    "        \n",
    "        page += 1\n",
    "    \n",
    "    # Add condition for error 413 (max number of pages)\n",
    "    elif response.status_code == 413:\n",
    "        print(\"Error 414: no more pages available. Starting new search.\")\n",
    "        fromdate = date\n",
    "        page = 1\n",
    "    \n",
    "    # In any other case, break out of the loop\n",
    "    else:\n",
    "        print(\"Error unknown\")\n",
    "        break\n",
    "\n",
    "\n"
   ]
  },
  {
   "cell_type": "code",
   "execution_count": null,
   "id": "de07fce3",
   "metadata": {},
   "outputs": [],
   "source": [
    "df = pd.DataFrame(data)\n",
    "df.drop_duplicates(keep=False, inplace=True)\n",
    "df.to_csv('headlines.csv', index=False)"
   ]
  },
  {
   "cell_type": "code",
   "execution_count": null,
   "id": "931027e6",
   "metadata": {},
   "outputs": [],
   "source": []
  }
 ],
 "metadata": {
  "kernelspec": {
   "display_name": "Python 3 (ipykernel)",
   "language": "python",
   "name": "python3"
  },
  "language_info": {
   "codemirror_mode": {
    "name": "ipython",
    "version": 3
   },
   "file_extension": ".py",
   "mimetype": "text/x-python",
   "name": "python",
   "nbconvert_exporter": "python",
   "pygments_lexer": "ipython3",
   "version": "3.10.11"
  }
 },
 "nbformat": 4,
 "nbformat_minor": 5
}
